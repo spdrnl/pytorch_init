{
 "cells": [
  {
   "cell_type": "code",
   "execution_count": 1,
   "metadata": {},
   "outputs": [
    {
     "name": "stdout",
     "output_type": "stream",
     "text": [
      "cuda:0\n"
     ]
    }
   ],
   "source": [
    "import torch\n",
    "import torch.nn as nn\n",
    "import torchvision.datasets as dsets\n",
    "import torchvision.transforms as trans\n",
    "import matplotlib\n",
    "import matplotlib.pyplot as plt\n",
    "import torch.nn.functional as F\n",
    "import time\n",
    "\n",
    "%matplotlib inline\n",
    "\n",
    "device = torch.device('cuda:0' if torch.cuda.is_available() else \"cpu\")\n",
    "print(device)"
   ]
  },
  {
   "cell_type": "code",
   "execution_count": 2,
   "metadata": {},
   "outputs": [
    {
     "name": "stdout",
     "output_type": "stream",
     "text": [
      "28.0\n"
     ]
    }
   ],
   "source": [
    "# Ouput size calcaltions wrto padding and kernel size\n",
    "input_size = 28\n",
    "kernel_size = 5\n",
    "padding = 2\n",
    "stride = 1\n",
    "output_size = (input_size - kernel_size + 2*padding)/stride + 1\n",
    "\n",
    "print(output_size)\n",
    "\n",
    "# Solve for outpt_size=input_size\n",
    "padding = (kernel_size - 1)/2"
   ]
  },
  {
   "cell_type": "code",
   "execution_count": 3,
   "metadata": {},
   "outputs": [],
   "source": [
    "trainSet = dsets.MNIST(\n",
    "    root='./data', \n",
    "    train=True, \n",
    "    transform=trans.ToTensor(), \n",
    "    download=True)\n",
    "\n",
    "testSet = dsets.MNIST(root='./data', \n",
    "                      train = False, \n",
    "                      transform=trans.ToTensor(), \n",
    "                      download=True)"
   ]
  },
  {
   "cell_type": "code",
   "execution_count": 4,
   "metadata": {},
   "outputs": [
    {
     "name": "stdout",
     "output_type": "stream",
     "text": [
      "Number of images 60000\n",
      "Type <class 'torch.Tensor'>\n",
      "size of images torch.Size([1, 28, 28])\n"
     ]
    }
   ],
   "source": [
    "print('Number of images {}'.format(len(trainSet)))\n",
    "print('Type {}'.format(type(trainSet[0][0])))\n",
    "print('size of images {}'.format(trainSet[0][0].size()))"
   ]
  },
  {
   "cell_type": "code",
   "execution_count": 18,
   "metadata": {},
   "outputs": [],
   "source": [
    "class Model4_6(nn.Module):\n",
    "    def __init__(self):\n",
    "        super(Model4_6, self).__init__() \n",
    "        self.cnn = nn.Conv2d(in_channels=1, out_channels=32, kernel_size=5, stride=1, padding=2)\n",
    "        self.relu = nn.ReLU()\n",
    "        self.maxpool=nn.MaxPool2d(kernel_size=2)\n",
    "        \n",
    "        self.fc1 = nn.Linear(32*14*14, 10)\n",
    "        \n",
    "    def forward(self, x):\n",
    "        out = self.cnn(x)\n",
    "        out = self.relu(out)\n",
    "        out = self.maxpool(out)\n",
    "        out=out.view(out.size(0), -1)\n",
    "        out = self.fc1(out)\n",
    "        return out\n",
    "    \n",
    "class Model4_7(nn.Module):\n",
    "    def __init__(self):\n",
    "        super(Model4_7, self).__init__() \n",
    "        self.layer1 = nn.Sequential(nn.Conv2d(1, 16, kernel_size=5, stride=1, padding=2),\n",
    "             nn.ReLU(),\n",
    "             nn.MaxPool2d(kernel_size=2, stride=2))\n",
    "        self.layer2 = nn.Sequential(nn.Conv2d(16, 32, kernel_size=5, stride=1, padding=2),\n",
    "             nn.ReLU(),\n",
    "             nn.MaxPool2d(kernel_size=2, stride=2))        \n",
    "        self.fc1 = nn.Linear(32*7*7, 10)\n",
    "        \n",
    "    def forward(self, x):\n",
    "        out= self.layer1(x)\n",
    "        out= self.layer2(out)\n",
    "        out=out.view(out.size(0), -1)\n",
    "        out = self.fc1(out)\n",
    "        return out\n",
    "    \n",
    "class Model4_8(nn.Module):\n",
    "    def __init__(self):\n",
    "        super(Model4_8, self).__init__() \n",
    "        self.layer1 = nn.Sequential(nn.Conv2d(1, 16, kernel_size=5, stride=1, padding=2),\n",
    "             nn.BatchNorm2d(16),\n",
    "             nn.ReLU(),\n",
    "             nn.MaxPool2d(kernel_size=2, stride=2))\n",
    "        self.layer2 = nn.Sequential(nn.Conv2d(16, 32, kernel_size=5, stride=1, padding=2),\n",
    "             nn.BatchNorm2d(32),\n",
    "             nn.ReLU(),\n",
    "             nn.MaxPool2d(kernel_size=2, stride=2))        \n",
    "        self.fc1 = nn.Linear(32*7*7, 10)\n",
    "        \n",
    "    def forward(self, x):\n",
    "        out= self.layer1(x)\n",
    "        out= self.layer2(out)\n",
    "        out=out.view(out.size(0), -1)\n",
    "        out = self.fc1(out)\n",
    "        return out"
   ]
  },
  {
   "cell_type": "code",
   "execution_count": 19,
   "metadata": {},
   "outputs": [],
   "source": [
    "def accuracy(testLoader, model):    \n",
    "    correct, total = 0, 0\n",
    "    with torch.no_grad():\n",
    "        for data in testLoader:\n",
    "            images, labels = data\n",
    "            images = images.to(device)\n",
    "            labels = labels.to(device)\n",
    "            outputs = model.forward(images).to(device)\n",
    "            _, predicted = torch.max(outputs.data, 1)\n",
    "            total += labels.size(0)\n",
    "            correct += (predicted == labels).sum().item()      \n",
    "    return(correct / total)\n",
    "\n",
    "\n",
    "def benchmark(trainLoader, testLoader, model, epochs=1, lr=0.01):\n",
    "    model.to(device)\n",
    "    optimizer = torch.optim.SGD(model.parameters(), lr=lr)\n",
    "    #lr_scheduler = torch.optim.lr_scheduler.LambdaLR(optimizer, lr_lambda = lambda x: x*0.7)\n",
    "    loss_function = nn.CrossEntropyLoss()\n",
    "    \n",
    "    start = time.time()\n",
    "    for epoch in range(epochs):\n",
    "        runningLoss = 0.0\n",
    "        for i, (images, labels) in enumerate(trainloader):\n",
    "            optimizer.zero_grad()\n",
    "            images = images.to(device)\n",
    "            labels = labels.to(device)\n",
    "            out = model(images).to(device)\n",
    "            loss = loss_function(out, labels)\n",
    "            loss.backward()\n",
    "            optimizer.step()\n",
    "            runningLoss += loss.item()\n",
    "        print('epoch {}, loss {}'.format(epoch, runningLoss))\n",
    "        #lr_scheduler.step()\n",
    "        #if epoch%5 == 0:\n",
    "        #    lr_scheduler = torch.optim.lr_scheduler.LambdaLR(optimizer, lr_lambda = lambda x: x*0.7)\n",
    "\n",
    "    print('Accuracy: {0:.4f}'.format(accuracy(testLoader, model)))\n",
    "    print('Training time: {0:.2f}'.format(time.time() - start))    "
   ]
  },
  {
   "cell_type": "code",
   "execution_count": 20,
   "metadata": {},
   "outputs": [],
   "source": [
    "lr = 0.05\n",
    "batchSize = 100\n",
    "\n",
    "trainloader = torch.utils.data.DataLoader(\n",
    "    dataset=trainSet,\n",
    "    batch_size=batchSize,\n",
    "    num_workers = 12,\n",
    "    pin_memory=True,\n",
    "    shuffle=True)\n",
    "\n",
    "testloader = torch.utils.data.DataLoader(dataset=testSet,  \n",
    "    batch_size=100,\n",
    "    num_workers = 12,\n",
    "    pin_memory=True)"
   ]
  },
  {
   "cell_type": "code",
   "execution_count": 21,
   "metadata": {},
   "outputs": [
    {
     "name": "stdout",
     "output_type": "stream",
     "text": [
      "Conv:\n",
      "epoch 0, loss 173.29868956655264\n",
      "epoch 1, loss 67.37345357052982\n",
      "epoch 2, loss 48.38780892081559\n",
      "epoch 3, loss 39.65769081003964\n",
      "epoch 4, loss 34.57854921929538\n",
      "Accuracy: 0.9836\n",
      "Training time: 9.27\n"
     ]
    }
   ],
   "source": [
    "print('Conv:')\n",
    "benchmark(trainloader, testloader, Model4_6(), epochs=5, lr = 0.1)"
   ]
  },
  {
   "cell_type": "code",
   "execution_count": 13,
   "metadata": {},
   "outputs": [
    {
     "name": "stdout",
     "output_type": "stream",
     "text": [
      "Conv:\n",
      "epoch 0, loss 163.62305738590658\n",
      "epoch 1, loss 47.52382941870019\n",
      "epoch 2, loss 35.05345236649737\n",
      "epoch 3, loss 29.322012143675238\n",
      "epoch 4, loss 25.167531778570265\n",
      "Accuracy: 0.9870\n",
      "Training time: 12.30\n"
     ]
    }
   ],
   "source": [
    "print('Conv:')\n",
    "benchmark(trainloader, testloader, Model4_7(), epochs=5, lr = 0.1)"
   ]
  },
  {
   "cell_type": "code",
   "execution_count": 22,
   "metadata": {},
   "outputs": [
    {
     "name": "stdout",
     "output_type": "stream",
     "text": [
      "Conv:\n",
      "epoch 0, loss 110.16549961548299\n",
      "epoch 1, loss 33.8766860216856\n",
      "epoch 2, loss 26.12414692598395\n",
      "epoch 3, loss 21.233242574497126\n",
      "epoch 4, loss 18.69966879801359\n",
      "Accuracy: 0.9901\n",
      "Training time: 13.84\n"
     ]
    }
   ],
   "source": [
    "print('Conv:')\n",
    "benchmark(trainloader, testloader, Model4_8(), epochs=5, lr = 0.1)"
   ]
  },
  {
   "cell_type": "code",
   "execution_count": null,
   "metadata": {},
   "outputs": [],
   "source": []
  }
 ],
 "metadata": {
  "kernelspec": {
   "display_name": "Python (PyTorch)",
   "language": "python",
   "name": "pytorch"
  },
  "language_info": {
   "codemirror_mode": {
    "name": "ipython",
    "version": 3
   },
   "file_extension": ".py",
   "mimetype": "text/x-python",
   "name": "python",
   "nbconvert_exporter": "python",
   "pygments_lexer": "ipython3",
   "version": "3.6.6"
  }
 },
 "nbformat": 4,
 "nbformat_minor": 2
}
