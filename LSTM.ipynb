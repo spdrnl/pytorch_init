{
 "cells": [
  {
   "cell_type": "code",
   "execution_count": 1,
   "metadata": {},
   "outputs": [],
   "source": [
    "import torch\n",
    "import torch.nn as nn\n",
    "import torchvision.datasets as dsets\n",
    "import torchvision.transforms as trans\n",
    "import matplotlib\n",
    "import matplotlib.pyplot as plt\n",
    "import torch.nn.functional as F\n",
    "%matplotlib inline"
   ]
  },
  {
   "cell_type": "code",
   "execution_count": 2,
   "metadata": {},
   "outputs": [
    {
     "name": "stdout",
     "output_type": "stream",
     "text": [
      "cuda:0\n"
     ]
    }
   ],
   "source": [
    "device = torch.device('cuda:0' if torch.cuda.is_available() else \"cpu\")\n",
    "print(device)"
   ]
  },
  {
   "cell_type": "code",
   "execution_count": 3,
   "metadata": {},
   "outputs": [],
   "source": [
    "train_set = dsets.MNIST(\n",
    "    root='./data', \n",
    "    train=True, \n",
    "    transform=trans.ToTensor(), \n",
    "    download=True)"
   ]
  },
  {
   "cell_type": "code",
   "execution_count": 4,
   "metadata": {},
   "outputs": [
    {
     "name": "stdout",
     "output_type": "stream",
     "text": [
      "Number of images 60000\n",
      "Type <class 'torch.Tensor'>\n",
      "size of images torch.Size([1, 28, 28])\n"
     ]
    }
   ],
   "source": [
    "print('Number of images {}'.format(len(train_set)))\n",
    "print('Type {}'.format(type(train_set[0][0])))\n",
    "print('size of images {}'.format(train_set[0][0].size()))"
   ]
  },
  {
   "cell_type": "code",
   "execution_count": 5,
   "metadata": {},
   "outputs": [],
   "source": [
    "class Model5_2(nn.Module):\n",
    "    def __init__(self):       \n",
    "        self.inSize=28\n",
    "        self.hiddenSize=100\n",
    "        self.numLayers=2\n",
    "        self.outSize = 10\n",
    "        super(Model5_2, self).__init__()\n",
    "        self.lstm = nn.LSTM(self.inSize, self.hiddenSize, self.numLayers, batch_first=True)\n",
    "        self.fc = nn.Linear(self.hiddenSize, self.outSize)\n",
    "    \n",
    "    def forward(self, x):\n",
    "        h0 = torch.zeros(self.numLayers, x.size(0), self.hiddenSize).to(device)\n",
    "        c0 = torch.zeros(self.numLayers, x.size(0), self.hiddenSize).to(device)\n",
    "        out, (hn, cn) = self.lstm(x, (h0,c0)) \n",
    "        out = self.fc(out[:, -1, :]) \n",
    "        return out"
   ]
  },
  {
   "cell_type": "code",
   "execution_count": 6,
   "metadata": {},
   "outputs": [],
   "source": [
    "model = Model5_2().to(device)\n",
    "model.to(device)\n",
    "\n",
    "lr = 0.001\n",
    "optimizer = torch.optim.RMSprop(model.parameters(), lr=lr)\n",
    "loss_function = nn.CrossEntropyLoss()"
   ]
  },
  {
   "cell_type": "code",
   "execution_count": 7,
   "metadata": {},
   "outputs": [],
   "source": [
    "batchSize = 128\n",
    "trainloader = torch.utils.data.DataLoader(\n",
    "    dataset=train_set,\n",
    "    batch_size=batchSize,\n",
    "    num_workers = 12,\n",
    "    pin_memory=True,\n",
    "    shuffle=True)"
   ]
  },
  {
   "cell_type": "code",
   "execution_count": 8,
   "metadata": {},
   "outputs": [
    {
     "name": "stdout",
     "output_type": "stream",
     "text": [
      "epoch 0, loss 253.17224971204996\n",
      "epoch 1, loss 66.43722124397755\n",
      "epoch 2, loss 43.150960229337215\n",
      "epoch 3, loss 31.88526245765388\n",
      "epoch 4, loss 25.239038506522775\n"
     ]
    }
   ],
   "source": [
    "epochs = 5\n",
    "for epoch in range(epochs):\n",
    "    runningLoss = 0.0\n",
    "    for i, (images, labels) in enumerate(trainloader):\n",
    "        optimizer.zero_grad()\n",
    "        images = images.view(-1, 28, 28)\n",
    "        images = images.to(device)\n",
    "        labels = labels.to(device)\n",
    "        out = model(images).to(device)\n",
    "        loss = loss_function(out, labels)\n",
    "        loss.backward()\n",
    "        optimizer.step()\n",
    "        runningLoss += loss.item()\n",
    "    print('epoch {}, loss {}'.format(epoch, runningLoss))"
   ]
  },
  {
   "cell_type": "code",
   "execution_count": 9,
   "metadata": {},
   "outputs": [
    {
     "data": {
      "text/plain": [
       "1.0"
      ]
     },
     "execution_count": 9,
     "metadata": {},
     "output_type": "execute_result"
    }
   ],
   "source": [
    "import numpy as np\n",
    "def successRate(predicted, labels):\n",
    "    predict = [np.argmax(p.cpu().detach().numpy()) for p in predicted]\n",
    "    actual =  [labels[i].item() for i in range(len(predicted))]\n",
    "    correct = [i for i, j in zip(predict, actual) if i == j]\n",
    "    return(len(correct)/(len(predict)))\n",
    "\n",
    "predicted = model.forward(images) \n",
    "predicted.size()\n",
    "successRate(predicted, labels)"
   ]
  },
  {
   "cell_type": "code",
   "execution_count": 10,
   "metadata": {},
   "outputs": [
    {
     "data": {
      "text/plain": [
       "0.9845"
      ]
     },
     "execution_count": 10,
     "metadata": {},
     "output_type": "execute_result"
    }
   ],
   "source": [
    "testSet = dsets.MNIST(root='./data', train = False, transform=trans.ToTensor(), download=True)\n",
    "testloader = torch.utils.data.DataLoader(dataset=testSet,  batch_size = 10000, shuffle = True)\n",
    "\n",
    "testData = iter(testloader)\n",
    "images, labels = testData.next()\n",
    "images = images.view(-1, 28, 28)\n",
    "images = images.to(device)\n",
    "labels = labels.to(device)\n",
    "output = model.forward(images)\n",
    "successRate(output,labels)"
   ]
  },
  {
   "cell_type": "code",
   "execution_count": 11,
   "metadata": {},
   "outputs": [],
   "source": [
    "torch.save(model.state_dict(), 'lstmmodel.pkl')\n",
    "model.load_state_dict(torch.load('lstmmodel.pkl'))"
   ]
  },
  {
   "cell_type": "code",
   "execution_count": null,
   "metadata": {},
   "outputs": [],
   "source": []
  }
 ],
 "metadata": {
  "kernelspec": {
   "display_name": "Python (PyTorch)",
   "language": "python",
   "name": "pytorch"
  },
  "language_info": {
   "codemirror_mode": {
    "name": "ipython",
    "version": 3
   },
   "file_extension": ".py",
   "mimetype": "text/x-python",
   "name": "python",
   "nbconvert_exporter": "python",
   "pygments_lexer": "ipython3",
   "version": "3.6.6"
  }
 },
 "nbformat": 4,
 "nbformat_minor": 2
}
