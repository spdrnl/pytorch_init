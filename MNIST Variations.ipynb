{
 "cells": [
  {
   "cell_type": "code",
   "execution_count": 23,
   "metadata": {},
   "outputs": [],
   "source": [
    "import torch\n",
    "import torch.nn as nn\n",
    "import torchvision.datasets as dsets\n",
    "import torchvision.transforms as trans\n",
    "import matplotlib\n",
    "import matplotlib.pyplot as plt\n",
    "import torch.nn.functional as F\n",
    "import time\n",
    "\n",
    "%matplotlib inline"
   ]
  },
  {
   "cell_type": "code",
   "execution_count": 24,
   "metadata": {},
   "outputs": [
    {
     "name": "stdout",
     "output_type": "stream",
     "text": [
      "cuda:0\n"
     ]
    }
   ],
   "source": [
    "device = torch.device('cuda:0' if torch.cuda.is_available() else \"cpu\")\n",
    "print(device)"
   ]
  },
  {
   "cell_type": "code",
   "execution_count": 25,
   "metadata": {},
   "outputs": [],
   "source": [
    "trainSet = dsets.MNIST(\n",
    "    root='./data', \n",
    "    train=True, \n",
    "    transform=trans.ToTensor(), \n",
    "    download=True)\n",
    "\n",
    "testSet = dsets.MNIST(root='./data', \n",
    "                      train = False, \n",
    "                      transform=trans.ToTensor(), \n",
    "                      download=True)"
   ]
  },
  {
   "cell_type": "code",
   "execution_count": 26,
   "metadata": {},
   "outputs": [
    {
     "name": "stdout",
     "output_type": "stream",
     "text": [
      "Number of images 60000\n",
      "Type <class 'torch.Tensor'>\n",
      "size of images torch.Size([1, 28, 28])\n"
     ]
    }
   ],
   "source": [
    "print('Number of images {}'.format(len(train_set)))\n",
    "print('Type {}'.format(type(train_set[0][0])))\n",
    "print('size of images {}'.format(train_set[0][0].size()))"
   ]
  },
  {
   "cell_type": "code",
   "execution_count": 64,
   "metadata": {},
   "outputs": [],
   "source": [
    "class Model4_1(nn.Module):\n",
    "    def __init__(self):\n",
    "        super(Model4_1, self).__init__()\n",
    "        self.linear1 = nn.Linear(784, 100)\n",
    "        self.relu1 = nn.ReLU()\n",
    "        self.linear2 = nn.Linear(100, 10)\n",
    "        \n",
    "    def forward(self, x):\n",
    "        out = self.linear1(x)\n",
    "        out = self.relu1(out)\n",
    "        out = self.linear2(out)\n",
    "        return out\n",
    "    \n",
    "class Model4_2(nn.Module):\n",
    "    def __init__(self):\n",
    "        super(Model4_2, self).__init__()\n",
    "        self.linear1 = nn.Linear(784, 100)\n",
    "        self.tanh1 = nn.Tanh()\n",
    "        self.linear2 = nn.Linear(100, 10)\n",
    "        \n",
    "    def forward(self, x):\n",
    "        out = self.linear1(x)\n",
    "        out = self.tanh1(out)\n",
    "        out = self.linear2(out)\n",
    "        return out\n",
    "    \n",
    "class Model4_3(nn.Module):\n",
    "    def __init__(self):\n",
    "        super(Model4_3, self).__init__()\n",
    "        self.linear1 = nn.Linear(784, 100)\n",
    "        self.sig1 = nn.Sigmoid()\n",
    "        self.linear2 = nn.Linear(100, 10)\n",
    "        \n",
    "    def forward(self, x):\n",
    "        out = self.linear1(x)\n",
    "        out = self.sig1(out)\n",
    "        out = self.linear2(out)\n",
    "        return out"
   ]
  },
  {
   "cell_type": "code",
   "execution_count": 61,
   "metadata": {},
   "outputs": [],
   "source": [
    "def accuracy(testLoader, model):    \n",
    "    correct, total = 0, 0\n",
    "    with torch.no_grad():\n",
    "        for data in testLoader:\n",
    "            images, labels = data\n",
    "            images = images.to(device)\n",
    "            labels = labels.to(device)\n",
    "            outputs = model.forward(images.view(-1, 28*28)).to(device)\n",
    "            _, predicted = torch.max(outputs.data, 1)\n",
    "            total += labels.size(0)\n",
    "            correct += (predicted == labels).sum().item()      \n",
    "    return(correct / total)\n",
    "\n",
    "\n",
    "def benchmark(trainLoader, testLoader, model, epochs=1, lr=0.01):\n",
    "    model.to(device)\n",
    "    optimizer = torch.optim.SGD(model.parameters(), lr=lr)\n",
    "    #lr_scheduler = torch.optim.lr_scheduler.LambdaLR(optimizer, lr_lambda = lambda x: x*0.7)\n",
    "    loss_function = nn.CrossEntropyLoss()\n",
    "    \n",
    "    start = time.time()\n",
    "    for epoch in range(epochs):\n",
    "        runningLoss = 0.0\n",
    "        for i, (images, labels) in enumerate(trainloader):\n",
    "            optimizer.zero_grad()\n",
    "            images = images.view(-1, 28 * 28)\n",
    "            images = images.to(device)\n",
    "            labels = labels.to(device)\n",
    "            out = model(images).to(device)\n",
    "            loss = loss_function(out, labels)\n",
    "            loss.backward()\n",
    "            optimizer.step()\n",
    "            runningLoss += loss.item()\n",
    "        print('epoch {}, loss {}'.format(epoch, runningLoss))\n",
    "        #lr_scheduler.step()\n",
    "        #if epoch%5 == 0:\n",
    "        #    lr_scheduler = torch.optim.lr_scheduler.LambdaLR(optimizer, lr_lambda = lambda x: x*0.7)\n",
    "\n",
    "    print('Accuracy: {0:.4f}'.format(accuracy(testLoader, model)))\n",
    "    print('Training time: {0:.2f}'.format(time.time() - start))    "
   ]
  },
  {
   "cell_type": "code",
   "execution_count": 62,
   "metadata": {},
   "outputs": [],
   "source": [
    "model = Model4_1()\n",
    "lr = 0.05\n",
    "batchSize = 100\n",
    "\n",
    "trainloader = torch.utils.data.DataLoader(\n",
    "    dataset=train_set,\n",
    "    batch_size=batchSize,\n",
    "    num_workers = 12,\n",
    "    pin_memory=True,\n",
    "    shuffle=True)\n",
    "\n",
    "testloader = torch.utils.data.DataLoader(dataset=testSet,  \n",
    "    batch_size=10000,\n",
    "    num_workers = 12,\n",
    "    pin_memory=True)"
   ]
  },
  {
   "cell_type": "code",
   "execution_count": 65,
   "metadata": {},
   "outputs": [
    {
     "name": "stdout",
     "output_type": "stream",
     "text": [
      "ReLU activation:\n",
      "epoch 0, loss 316.5952096879482\n",
      "epoch 1, loss 163.8906356021762\n",
      "epoch 2, loss 131.95745799690485\n",
      "epoch 3, loss 110.85016337782145\n",
      "epoch 4, loss 95.4335983172059\n",
      "Accuracy: 0.9575\n",
      "Training time: 8.86\n",
      "Tanh activation\n",
      "epoch 0, loss 308.6659102141857\n",
      "epoch 1, loss 170.77222556620836\n",
      "epoch 2, loss 142.90320280194283\n",
      "epoch 3, loss 122.57304010912776\n",
      "epoch 4, loss 107.83303147181869\n",
      "Accuracy: 0.9520\n",
      "Training time: 8.98\n",
      "sigmoid activation\n",
      "epoch 0, loss 688.7089750468731\n",
      "epoch 1, loss 267.2554040849209\n",
      "epoch 2, loss 214.40332981944084\n",
      "epoch 3, loss 192.69825249910355\n",
      "epoch 4, loss 179.52659180760384\n",
      "Accuracy: 0.9208\n",
      "Training time: 9.12\n"
     ]
    }
   ],
   "source": [
    "print('ReLU activation:')\n",
    "benchmark(trainLoader, testloader, Model4_1(), epochs=5, lr = 0.1)\n",
    "print('Tanh activation')\n",
    "benchmark(trainLoader, testloader, Model4_2(), epochs=5, lr = 0.1)\n",
    "print('sigmoid activation')\n",
    "benchmark(trainLoader, testloader, Model4_3(), epochs=5, lr = 0.1)"
   ]
  },
  {
   "cell_type": "code",
   "execution_count": null,
   "metadata": {},
   "outputs": [],
   "source": []
  }
 ],
 "metadata": {
  "kernelspec": {
   "display_name": "Python (PyTorch)",
   "language": "python",
   "name": "pytorch"
  },
  "language_info": {
   "codemirror_mode": {
    "name": "ipython",
    "version": 3
   },
   "file_extension": ".py",
   "mimetype": "text/x-python",
   "name": "python",
   "nbconvert_exporter": "python",
   "pygments_lexer": "ipython3",
   "version": "3.6.6"
  }
 },
 "nbformat": 4,
 "nbformat_minor": 2
}
